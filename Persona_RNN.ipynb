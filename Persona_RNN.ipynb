{
 "cells": [
  {
   "cell_type": "code",
   "execution_count": 151,
   "metadata": {},
   "outputs": [],
   "source": [
    "import pandas as pd\n",
    "import re\n",
    "import csv\n",
    "import matplotlib.pyplot as plt\n",
    "import numpy as np\n",
    "\n",
    "%matplotlib inline"
   ]
  },
  {
   "cell_type": "code",
   "execution_count": 142,
   "metadata": {},
   "outputs": [],
   "source": [
    "path = 'C:/Laptop/NewQ/Sprint 10/Persona/DL/'\n",
    "data_file_name = path+'data.csv'\n",
    "abbr_file_name = path+'abbreviation.csv'\n",
    "word_count_file = path +'word_count.csv'"
   ]
  },
  {
   "cell_type": "code",
   "execution_count": 215,
   "metadata": {},
   "outputs": [],
   "source": [
    "abbr = pd.read_csv(abbr_file_name).set_index('word').to_dict()\n",
    "abbr = abbr['Abbreviation']\n",
    "\n",
    "less_freq_words = []\n",
    "\n",
    "def replaceAbbr(txt):\n",
    "    words = txt.split(' ')\n",
    "    for index, word in enumerate(words):\n",
    "        if word in abbr:\n",
    "            words[index] = abbr[word]\n",
    "    return ' '.join(words)\n",
    "\n",
    "def remove_less_freq_words(txt):\n",
    "    words = txt.split(' ')\n",
    "    for index, word in enumerate(words):\n",
    "        if word in less_freq_words:\n",
    "            words[index] = ''\n",
    "    return ' '.join(words)\n",
    "\n"
   ]
  },
  {
   "cell_type": "code",
   "execution_count": 110,
   "metadata": {},
   "outputs": [
    {
     "data": {
      "text/plain": [
       "'quality assurance'"
      ]
     },
     "execution_count": 110,
     "metadata": {},
     "output_type": "execute_result"
    }
   ],
   "source": [
    "replaceAbbr('qa')"
   ]
  },
  {
   "cell_type": "code",
   "execution_count": 189,
   "metadata": {},
   "outputs": [
    {
     "name": "stdout",
     "output_type": "stream",
     "text": [
      "(94400, 2)\n",
      "['Title' 'Persona']\n"
     ]
    }
   ],
   "source": [
    "data = pd.read_csv(data_file_name, encoding='utf-8')\n",
    "print(data.shape)\n",
    "print(data.columns.values)\n"
   ]
  },
  {
   "cell_type": "code",
   "execution_count": 220,
   "metadata": {},
   "outputs": [],
   "source": [
    "processed_data = data.copy()\n",
    "\n",
    "# replacing '-'' with spaces\n",
    "processed_data['Title'] = processed_data['Title'].apply(lambda x: re.sub('[-]', ' ', x))\n",
    "processed_data['Title'] = processed_data['Title'].apply(lambda x: re.sub('[ ]+', ' ', x))\n",
    "\n",
    "\n",
    "processed_data['Title'] = processed_data['Title'].apply(lambda x: x.replace('.net', 'dotnet'))\n",
    "\n",
    "# replacing non alphabets\n",
    "processed_data['Title'] = processed_data['Title'].apply(lambda x: re.sub('[^a-zA-Z ]', '', x))\n",
    "\n",
    "# converting to lower case\n",
    "processed_data['Title'] = processed_data['Title'].apply(lambda x: x.lower().strip())\n",
    "\n",
    "# expand abbreviations\n",
    "processed_data['Title'] = processed_data['Title'].apply(replaceAbbr)\n",
    "\n",
    "processed_data['Title'] = processed_data['Title'].apply(lambda x: re.sub('[ ]+', ' ', x))\n"
   ]
  },
  {
   "cell_type": "code",
   "execution_count": 226,
   "metadata": {},
   "outputs": [],
   "source": [
    "titles = processed_data['Title']"
   ]
  },
  {
   "cell_type": "code",
   "execution_count": 227,
   "metadata": {},
   "outputs": [
    {
     "name": "stdout",
     "output_type": "stream",
     "text": [
      "Min Characters: 0\n",
      "Max Characters: 151\n"
     ]
    }
   ],
   "source": [
    "# number of characters in each title\n",
    "title_length = [len(title) for title in titles]\n",
    "print('Min Characters: '+str(min(title_length)))\n",
    "print('Max Characters: '+str(max(title_length)))\n"
   ]
  },
  {
   "cell_type": "code",
   "execution_count": 232,
   "metadata": {},
   "outputs": [
    {
     "name": "stdout",
     "output_type": "stream",
     "text": [
      "Min Words: 1\n",
      "Max Words: 19\n"
     ]
    },
    {
     "data": {
      "image/png": "[encoded data removed]",
      "text/plain": [
       "<matplotlib.figure.Figure at 0x18cef4e0>"
      ]
     },
     "metadata": {},
     "output_type": "display_data"
    }
   ],
   "source": [
    "# number of words in each title\n",
    "title_word_length = [len(title.split(' ')) for title in titles]\n",
    "print('Min Words: '+str(min(title_word_length)))\n",
    "print('Max Words: '+str(max(title_word_length)))\n",
    "plt.figure(figsize = (20,5))\n",
    "plt.hist(title_word_length, bins=19)\n",
    "\n",
    "plt.show()"
   ]
  },
  {
   "cell_type": "code",
   "execution_count": 194,
   "metadata": {},
   "outputs": [
    {
     "data": {
      "text/plain": [
       "'associate financial risk'"
      ]
     },
     "execution_count": 194,
     "metadata": {},
     "output_type": "execute_result"
    }
   ],
   "source": [
    "titles[1]"
   ]
  },
  {
   "cell_type": "code",
   "execution_count": 233,
   "metadata": {},
   "outputs": [
    {
     "name": "stdout",
     "output_type": "stream",
     "text": [
      "senior manager information technology risk management department systems planning office systems division the bank of tokyo mitsubishi ufj ltd\n"
     ]
    }
   ],
   "source": [
    "for ix, length in enumerate(title_word_length):\n",
    "    if length ==19:\n",
    "        print(titles[ix])"
   ]
  },
  {
   "cell_type": "code",
   "execution_count": 223,
   "metadata": {},
   "outputs": [],
   "source": [
    "words = []\n",
    "temp = [words.extend(title.split(' ')) for title in titles]\n",
    "word_count = {}\n",
    "for word in words:\n",
    "    if word in word_count:\n",
    "        word_count[word] = word_count[word]+1\n",
    "    else:\n",
    "        word_count[word] = 1"
   ]
  },
  {
   "cell_type": "code",
   "execution_count": 219,
   "metadata": {},
   "outputs": [],
   "source": [
    "with open(word_count_file, 'w', newline='') as csv_file:\n",
    "    writer = csv.writer(csv_file)\n",
    "    writer.writerow(['word','count'])\n",
    "    for k, v in word_count.items():\n",
    "        writer.writerow([k,v])"
   ]
  },
  {
   "cell_type": "code",
   "execution_count": 224,
   "metadata": {},
   "outputs": [],
   "source": [
    "less_freq_words = []\n",
    "for k, v in word_count.items():\n",
    "    if v <5:\n",
    "        less_freq_words.append(k)"
   ]
  },
  {
   "cell_type": "code",
   "execution_count": 225,
   "metadata": {},
   "outputs": [],
   "source": [
    "processed_data['Title'] = processed_data['Title'].apply(remove_less_freq_words)\n"
   ]
  },
  {
   "cell_type": "code",
   "execution_count": 244,
   "metadata": {},
   "outputs": [],
   "source": [
    "second_processed_data = processed_data.copy()\n",
    "second_processed_data = second_processed_data[second_processed_data['Title'].map(len)>2]\n",
    "second_processed_data = second_processed_data[second_processed_data['Title'].map(lambda x: len(x.split(' ')))>1]"
   ]
  },
  {
   "cell_type": "code",
   "execution_count": 245,
   "metadata": {},
   "outputs": [
    {
     "data": {
      "text/plain": [
       "(94025, 2)"
      ]
     },
     "execution_count": 245,
     "metadata": {},
     "output_type": "execute_result"
    }
   ],
   "source": [
    "second_processed_data.shape"
   ]
  },
  {
   "cell_type": "code",
   "execution_count": 354,
   "metadata": {},
   "outputs": [],
   "source": [
    "top_words = 5000\n",
    "(X_ttrain, y_ttrain), (X_ttest, y_ttest) = imdb.load_data(num_words=top_words)"
   ]
  },
  {
   "cell_type": "code",
   "execution_count": 258,
   "metadata": {},
   "outputs": [],
   "source": [
    "words = []\n",
    "temp = [words.extend(title.split(' ')) for title in second_processed_data['Title']]\n",
    "word_to_int = {word:idx for idx, word in enumerate(set(words))}\n",
    "int_to_word = {idx:word for idx, word in enumerate(set(words))}"
   ]
  },
  {
   "cell_type": "code",
   "execution_count": 264,
   "metadata": {},
   "outputs": [],
   "source": [
    "persona_to_int = {persona:idx for idx, persona in enumerate(set(second_processed_data['Persona']))}\n",
    "int_to_persona = {idx:persona for idx, persona in enumerate(set(second_processed_data['Persona']))}"
   ]
  },
  {
   "cell_type": "code",
   "execution_count": 279,
   "metadata": {},
   "outputs": [],
   "source": [
    "def convert_data(txt):\n",
    "    words = txt.split(' ')\n",
    "    converted = [word_to_int[word] for word in words]\n",
    "    return converted"
   ]
  },
  {
   "cell_type": "code",
   "execution_count": 342,
   "metadata": {},
   "outputs": [],
   "source": [
    "from keras.utils import to_categorical\n",
    "second_processed_data.reset_index(drop=True, inplace=True)\n",
    "X = second_processed_data['Title'].apply(convert_data)\n",
    "Y = to_categorical(second_processed_data['Persona'].apply(lambda x: persona_to_int[x]))"
   ]
  },
  {
   "cell_type": "code",
   "execution_count": 335,
   "metadata": {},
   "outputs": [],
   "source": [
    "test_train_split = 0.7\n",
    "max_title_length = 15\n",
    "embedding_vecor_length = 32\n",
    "num_words = len(word_to_int)"
   ]
  },
  {
   "cell_type": "code",
   "execution_count": 360,
   "metadata": {},
   "outputs": [],
   "source": [
    "import random\n",
    "\n",
    "selected = [1 if random.randint(1,100) < test_train_split*100 else 0 for idx in range(1,len(X))]\n",
    "X_train = []\n",
    "Y_train = []\n",
    "X_test = []\n",
    "Y_test = []\n",
    "\n",
    "for idx, val in enumerate(selected):\n",
    "    if val == 1:\n",
    "        X_train.append(list(X[idx]))\n",
    "        Y_train.append(list(Y[idx]))\n",
    "    else:\n",
    "        X_test.append(list(X[idx]))\n",
    "        Y_test.append(list(Y[idx]))"
   ]
  },
  {
   "cell_type": "code",
   "execution_count": 361,
   "metadata": {},
   "outputs": [
    {
     "name": "stdout",
     "output_type": "stream",
     "text": [
      "65003\n",
      "65003\n",
      "29021\n",
      "29021\n"
     ]
    },
    {
     "data": {
      "text/plain": [
       "2202"
      ]
     },
     "execution_count": 361,
     "metadata": {},
     "output_type": "execute_result"
    }
   ],
   "source": [
    "print(len(X_train))\n",
    "print(len(Y_train))\n",
    "print(len(X_test))\n",
    "print(len(Y_test))\n",
    "num_words"
   ]
  },
  {
   "cell_type": "code",
   "execution_count": 364,
   "metadata": {},
   "outputs": [
    {
     "name": "stdout",
     "output_type": "stream",
     "text": [
      "[  0   0   0   0   0   0   0   0   0   0   0   0 559 699 732]\n",
      "<class 'list'>\n"
     ]
    }
   ],
   "source": [
    "print(X_train[1])\n",
    "print(type(X_ttrain[1]))"
   ]
  },
  {
   "cell_type": "code",
   "execution_count": 338,
   "metadata": {},
   "outputs": [],
   "source": [
    "from keras.models import Sequential\n",
    "from keras.preprocessing import sequence\n",
    "from keras.layers import Dense\n",
    "from keras.layers import LSTM\n",
    "from keras.layers.embeddings import Embedding"
   ]
  },
  {
   "cell_type": "code",
   "execution_count": 362,
   "metadata": {},
   "outputs": [],
   "source": [
    "X_train = sequence.pad_sequences(X_train, maxlen=max_title_length)\n",
    "X_test = sequence.pad_sequences(X_test, maxlen=max_title_length)"
   ]
  },
  {
   "cell_type": "code",
   "execution_count": 397,
   "metadata": {},
   "outputs": [
    {
     "name": "stdout",
     "output_type": "stream",
     "text": [
      "_________________________________________________________________\n",
      "Layer (type)                 Output Shape              Param #   \n",
      "=================================================================\n",
      "embedding_9 (Embedding)      (None, 15, 32)            70464     \n",
      "_________________________________________________________________\n",
      "lstm_7 (LSTM)                (None, 100)               53200     \n",
      "_________________________________________________________________\n",
      "dense_9 (Dense)              (None, 25)                2525      \n",
      "=================================================================\n",
      "Total params: 126,189\n",
      "Trainable params: 126,189\n",
      "Non-trainable params: 0\n",
      "_________________________________________________________________\n",
      "None\n",
      "Epoch 1/5\n",
      "65003/65003 [==============================] - 41s - loss: 1.0596 - acc: 0.7152    \n",
      "Epoch 2/5\n",
      "65003/65003 [==============================] - 43s - loss: 0.4251 - acc: 0.8745    \n",
      "Epoch 3/5\n",
      "65003/65003 [==============================] - 42s - loss: 0.3310 - acc: 0.8940    \n",
      "Epoch 4/5\n",
      "65003/65003 [==============================] - 42s - loss: 0.2876 - acc: 0.9035    \n",
      "Epoch 5/5\n",
      "65003/65003 [==============================] - 41s - loss: 0.2609 - acc: 0.9113    \n"
     ]
    },
    {
     "data": {
      "text/plain": [
       "<keras.callbacks.History at 0x6bedb748>"
      ]
     },
     "execution_count": 397,
     "metadata": {},
     "output_type": "execute_result"
    }
   ],
   "source": [
    "model = Sequential()\n",
    "model.add(Embedding(num_words, embedding_vecor_length, input_length=max_title_length))\n",
    "\n",
    "model.add(LSTM(100))\n",
    "\n",
    "model.add(Dense(25, activation='softmax'))\n",
    "\n",
    "model.compile(loss='categorical_crossentropy', optimizer='adam', metrics=['accuracy'])\n",
    "\n",
    "print(model.summary())\n",
    "model.fit(X_train, Y_train, epochs=5, batch_size=64)\n"
   ]
  },
  {
   "cell_type": "code",
   "execution_count": 407,
   "metadata": {},
   "outputs": [
    {
     "name": "stdout",
     "output_type": "stream",
     "text": [
      "Test Accuracy: 89.30%\n"
     ]
    }
   ],
   "source": [
    "# Final evaluation of the model\n",
    "scores = model.evaluate(X_test, Y_test, verbose=0)\n",
    "print(\"Test Accuracy: %.2f%%\" % (scores[1]*100))"
   ]
  },
  {
   "cell_type": "code",
   "execution_count": 445,
   "metadata": {},
   "outputs": [
    {
     "name": "stdout",
     "output_type": "stream",
     "text": [
      "Admin\n",
      "Admin\n",
      "Grant - VP of IT Operations\n",
      "VP OF SECURITY\n",
      "BRIAN - ENTERPRISE ARCHITECT\n",
      "Kathy - Business Transformation\n",
      "INDIVIDUAL CONTRIBUTOR OPERATIONS\n",
      "Individual Contributor Apps\n",
      "DAN - LEAD DEVELOPER\n"
     ]
    }
   ],
   "source": [
    "test_str = pd.Series(['administrative assistant to vice president operations', \n",
    "                        'executive assistant john',\n",
    "                        'assistant vice president operations',\n",
    "                        'vice president cybersecurity',\n",
    "                        'senior architect',\n",
    "                        'project manager',\n",
    "                        'senior software engineer',\n",
    "                        'application developer',\n",
    "                        'lead software engineer'\n",
    "                    ])\n",
    "\n",
    "test_int = test_str.apply(lambda x:[word_to_int[word] for word in x.split(' ')])\n",
    "#test_int = [[word_to_int[word] for word in test_str.split(' ')]]\n",
    "\n",
    "\n",
    "tt = sequence.pad_sequences(test_int, maxlen=max_title_length)\n",
    "prediction = model.predict(tt)\n",
    "output = [int_to_persona[val] for val in np.argmax(prediction, axis =1)]\n",
    "z = [print(persona) for persona in output]\n"
   ]
  },
  {
   "cell_type": "code",
   "execution_count": null,
   "metadata": {},
   "outputs": [],
   "source": []
  },
  {
   "cell_type": "code",
   "execution_count": 384,
   "metadata": {},
   "outputs": [
    {
     "name": "stdout",
     "output_type": "stream",
     "text": [
      "support\n",
      "specialist\n",
      "exec\n"
     ]
    }
   ],
   "source": [
    "print(int_to_word[650])\n",
    "print(int_to_word[844])\n",
    "print(int_to_word[1931])\n"
   ]
  }
 ],
 "metadata": {
  "kernelspec": {
   "display_name": "Python 3",
   "language": "python",
   "name": "python3"
  },
  "language_info": {
   "codemirror_mode": {
    "name": "ipython",
    "version": 3
   },
   "file_extension": ".py",
   "mimetype": "text/x-python",
   "name": "python",
   "nbconvert_exporter": "python",
   "pygments_lexer": "ipython3",
   "version": "3.5.3"
  }
 },
 "nbformat": 4,
 "nbformat_minor": 2
}
